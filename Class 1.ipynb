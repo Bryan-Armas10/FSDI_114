{
 "cells": [
  {
   "cell_type": "code",
   "execution_count": 3,
   "id": "89744fa0-5848-4df4-9dfe-202abee593d5",
   "metadata": {},
   "outputs": [
    {
     "name": "stdout",
     "output_type": "stream",
     "text": [
      "h\n",
      "e\n",
      "l\n",
      "l\n",
      "o\n",
      ",\n",
      " \n",
      "w\n",
      "o\n",
      "r\n",
      "l\n",
      "d\n",
      "!\n"
     ]
    }
   ],
   "source": [
    "for char in \"hello, world!\":\n",
    "    print(char)\n",
    "\n",
    "# Press Shift + enter"
   ]
  },
  {
   "cell_type": "code",
   "execution_count": 4,
   "id": "e9f963c8-40d2-4f6d-b934-a24b4486742c",
   "metadata": {},
   "outputs": [
    {
     "ename": "SyntaxError",
     "evalue": "expected 'else' after 'if' expression (3879980673.py, line 5)",
     "output_type": "error",
     "traceback": [
      "\u001b[0;36m  Cell \u001b[0;32mIn[4], line 5\u001b[0;36m\u001b[0m\n\u001b[0;31m    Given two strings, determine if these anagrams of each other. Your function should return True, if these are anagrams of each other, False otherwise.\u001b[0m\n\u001b[0m                       ^\u001b[0m\n\u001b[0;31mSyntaxError\u001b[0m\u001b[0;31m:\u001b[0m expected 'else' after 'if' expression\n"
     ]
    }
   ],
   "source": [
    "# # Problem 1 \n",
    "\n",
    "# ## Anagram Check\n",
    "\n",
    "# Given two strings, determine if these anagrams of each other. your function should return True, if these are anagrams of each other, false otherwise.\n",
    "\n",
    "# ### Criteria\n",
    "\n",
    "# Two strings are anagrams of each other, if all the criteria below are met:\n",
    "\n",
    "# 1. They must contain the same number of letters the same amount of times.\n",
    "# 2. They must be of equal length.\n",
    "\n",
    "# Examples:\n",
    "# cars and scar\n",
    "# star and rats\n",
    "# earth and heart\n",
    "\n",
    "# BUT ALSO:\n",
    "# I am Lord Voldemort and Tom Marvolo Riddle"
   ]
  },
  {
   "cell_type": "code",
   "execution_count": 20,
   "id": "1bee4b7b-afe5-45c7-b396-5c36ad525a21",
   "metadata": {},
   "outputs": [],
   "source": [
    "# This is a poor solution to this problem:\n",
    "# def anagram_check(str1, str2):\n",
    "#    return sorted(str1) == sorted(str2)\n",
    "\n",
    "from collections import Counter\n",
    "import re\n",
    "\n",
    "def anagram_check(str1, str2):\n",
    "    # Remove non-alphabetic characters and convert both strings to lowercase\n",
    "    str1_clean = re.sub(r'[^a-zA-Z]', '', str1).lower()\n",
    "    str2_clean = re.sub(r'[^a-zA-Z]', '', str2).lower()\n",
    "\n",
    "    # Use Counter to count the characters in each string and compare them\n",
    "    return Counter(str1_clean) == Counter(str2_clean)"
   ]
  },
  {
   "cell_type": "code",
   "execution_count": 6,
   "id": "40b5d106-4b88-4304-b0d6-9a94bb9ffabc",
   "metadata": {},
   "outputs": [
    {
     "data": {
      "text/plain": [
       "False"
      ]
     },
     "execution_count": 6,
     "metadata": {},
     "output_type": "execute_result"
    }
   ],
   "source": [
    "anagram_check(\"I am Lord Voldemort\", \"Tom Marvolo Riddle\")"
   ]
  },
  {
   "cell_type": "code",
   "execution_count": 7,
   "id": "24972e8e-a2cb-423d-8896-860961542a54",
   "metadata": {},
   "outputs": [
    {
     "data": {
      "text/plain": [
       "True"
      ]
     },
     "execution_count": 7,
     "metadata": {},
     "output_type": "execute_result"
    }
   ],
   "source": [
    "anagram_check(\"star\", \"rats\")"
   ]
  },
  {
   "cell_type": "code",
   "execution_count": 21,
   "id": "5ae68884-6ddf-462c-ae2b-7371c7745957",
   "metadata": {},
   "outputs": [
    {
     "data": {
      "text/plain": [
       "True"
      ]
     },
     "execution_count": 21,
     "metadata": {},
     "output_type": "execute_result"
    }
   ],
   "source": [
    "anagram_check(\"I am Lord Voldemort\", \"Tom Marvolo Riddle\")"
   ]
  },
  {
   "cell_type": "code",
   "execution_count": null,
   "id": "55d71b96-aa64-4891-88f3-02983b809931",
   "metadata": {},
   "outputs": [],
   "source": []
  }
 ],
 "metadata": {
  "kernelspec": {
   "display_name": "Python 3 (ipykernel)",
   "language": "python",
   "name": "python3"
  },
  "language_info": {
   "codemirror_mode": {
    "name": "ipython",
    "version": 3
   },
   "file_extension": ".py",
   "mimetype": "text/x-python",
   "name": "python",
   "nbconvert_exporter": "python",
   "pygments_lexer": "ipython3",
   "version": "3.12.3"
  }
 },
 "nbformat": 4,
 "nbformat_minor": 5
}
