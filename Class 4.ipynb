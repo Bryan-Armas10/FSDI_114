{
 "cells": [
  {
   "cell_type": "markdown",
   "id": "4fec5286-d950-46d1-ae8f-d7135721e061",
   "metadata": {},
   "source": [
    "# Introduction to recursive functions¶\n",
    "\n",
    "A recursive function is a functiuon that calls itself at least once during excecution. \n",
    "\n",
    "The exit conndition in a recursive function is typically referred to as the \"base case\" and it represents a condition we know (for a fact) to be true.\n",
    "    \n",
    "When the function calls itself, we can refer to this as the \"recursive case\"."
   ]
  },
  {
   "cell_type": "code",
   "execution_count": 5,
   "id": "fbd92043-213a-4b23-b46e-15e080faf991",
   "metadata": {},
   "outputs": [
    {
     "data": {
      "text/plain": [
       "120"
      ]
     },
     "execution_count": 5,
     "metadata": {},
     "output_type": "execute_result"
    }
   ],
   "source": [
    "# A simple example of recursive functions\n",
    "\n",
    "# The factorial of an innteger N is N! = N+(N-1) \n",
    "\n",
    "# For example, the factorial of 5, which is represented 5! is 5!=5x4! which can be evaluated as 5!=5x4x3x2x1\n",
    "\n",
    "# 0(n) space complexity\n",
    "def factorial(n):\n",
    "    # As a mathematical convention, thhe factorial of 0 is equal to 1 \n",
    "    if n <1:                              # base case or exit condition\n",
    "        return 1\n",
    "    return n*factorial(n-1)               # recursive case or recursive condition\n",
    "\n",
    "factorial(5)"
   ]
  },
  {
   "cell_type": "code",
   "execution_count": 10,
   "id": "38fef86f-3325-4658-a49c-12ef88ce0c8e",
   "metadata": {},
   "outputs": [
    {
     "data": {
      "text/plain": [
       "832040"
      ]
     },
     "execution_count": 10,
     "metadata": {},
     "output_type": "execute_result"
    }
   ],
   "source": [
    "# Challenges with recursion\n",
    "\n",
    "# The Fibonacci sequence\n",
    "\n",
    "# F0  = 0\n",
    "# F1 = 1\n",
    "\n",
    "# Example: 0,1,1,2,3,5,8,13,21\n",
    "\n",
    "# FN = F(N-1) + F(N-2)\n",
    "\n",
    "# What if i wanted to know F(30)?\n",
    "\n",
    "# sub-optimal recursive function\n",
    "\n",
    "# Temporary fix the implement caching for this function:\n",
    "from functools import lru_cache\n",
    "\n",
    "@lru_cache\n",
    "def fibonacci(n):\n",
    "    if n < 2:\n",
    "        return n\n",
    "    return fibonacci(n-1) + fibonacci(n-2)\n",
    "\n",
    "fibonacci(30)"
   ]
  },
  {
   "cell_type": "code",
   "execution_count": 11,
   "id": "be1cc37d-de03-401d-b549-444a19cc578c",
   "metadata": {},
   "outputs": [
    {
     "data": {
      "text/plain": [
       "3878968454388325633701916308325905312082127714646245106160597214895550139044037097010822916462210669479293452858882973813483102008954982940361430156911478938364216563944106910214505634133706558656238254656700712525929903854933813928836378347518908762970712033337052923107693008518093849801803847813996748881765554653788291644268912980384613778969021502293082475666346224923071883324803280375039130352903304505842701147635242270210934637699104006714174883298422891491273104054328753298044273676822977244987749874555691907703880637046832794811358973739993110106219308149018570815397854379195305617510761053075688783766033667355445258844886241619210553457493675897849027988234351023599844663934853256411952221859563060475364645470760330902420806382584929156452876291575759142343809142302917491088984155209854432486594079793571316841692868039545309545388698114665082066862897420639323438488465240988742395873801976993820317174208932265468879364002630797780058759129671389634214252579116872755600360311370547754724604639987588046985178408674382863125"
      ]
     },
     "execution_count": 11,
     "metadata": {},
     "output_type": "execute_result"
    }
   ],
   "source": [
    "\n",
    "for number in range(0, 5000):\n",
    "    fibonacci(number)\n",
    "    \n",
    "fibonacci(5000)        # This particular has a time complexity of 0(n)"
   ]
  },
  {
   "cell_type": "code",
   "execution_count": 22,
   "id": "1474ffac-70c1-46a2-ba88-deba3568acd1",
   "metadata": {},
   "outputs": [
    {
     "data": {
      "text/plain": [
       "2178309"
      ]
     },
     "execution_count": 22,
     "metadata": {},
     "output_type": "execute_result"
    }
   ],
   "source": [
    "# Replacing lru_cache with build-in dictionary\n",
    "\n",
    "solutions = dict()\n",
    "\n",
    "def fib(n):\n",
    "    if n in solutions.keys():\n",
    "        return solutions[n]\n",
    "    if n < 2:\n",
    "        return n\n",
    "    solutions[n] = fib(n-1) + fib(n-2)\n",
    "    return fib(n)\n",
    "\n",
    "fib(32)"
   ]
  },
  {
   "cell_type": "code",
   "execution_count": 26,
   "id": "14f9aefc-08ce-4153-b83e-f2d0b140d28c",
   "metadata": {},
   "outputs": [],
   "source": [
    "\n",
    "def myfunction(mylist):\n",
    "    total = 0\n",
    "    for arg1 in mylist:\n",
    "        for arg2 in mylist:\n",
    "            total += arg1 * arg2\n",
    "    return number"
   ]
  },
  {
   "cell_type": "markdown",
   "id": "1ceb653a-afda-4bac-9352-562cda85eeb8",
   "metadata": {},
   "source": [
    "# Balanced parentheses check\n",
    "\n",
    "Given a string consisting solely of the set of characters in {\"(\",\"[\", \"{\", \"}\", \"]\", \")\"} determine if the string is balanced.\n",
    "Your function \"balance_check\" should return True if the string is balanced, and False otherwise.\n",
    "\n",
    "## Criteria\n",
    "A string is balanced if all parentheses/brackets/braces close in the same order they were opened.\n",
    "\n",
    "## Examples \n",
    "```\n",
    "Balanced: ((({{{[[[]]]}}})))\n",
    "Balanced: ()()()[[[]]]\n",
    "Not balanced: (((({))))\n",
    "Not balanced: ()()()()[[[{}{}{}]]]"
   ]
  },
  {
   "cell_type": "code",
   "execution_count": 27,
   "id": "549c4b59-800b-452d-abd5-353a7a615ae8",
   "metadata": {},
   "outputs": [
    {
     "name": "stdout",
     "output_type": "stream",
     "text": [
      "That's an old number\n"
     ]
    }
   ],
   "source": [
    "mystring = \"12345\"\n",
    "\n",
    "if len(mystring)%2 != 0:\n",
    "    print(\"That's an old number\")\n",
    "else:\n",
    "    print(\"That's an even number\")\n",
    "\n",
    "# 1. keep track of all possible combinations that are vvalid.\n",
    "# 2. keep track of all valid characters in this space.\n",
    "# 2.1. Create a set of opening parentheses; In python we could do this: epenning = set(\"{[(\")\n",
    "# 3. Check the length of the string, and if it contains an add number of characters, return False\n",
    "# 4. Otherwise, we are going to loop over the received string.\n",
    "# 4.1. As we loop, retrieve the next character in the string, beginning with the 0th character initially.\n",
    "# 5. Every time we loop, we check if the character is part of the \"opening\" set.\n",
    "# 5.1. If it is, add that character to our stack (push).\n",
    "# 5.2. If it isn't, pop the pop character from the stack and compare the combination to the collection of valid combinations.\n",
    "# 5.2.1 If the combination does not exist in our collection, return False.\n",
    "# 6. After looping through the entire string, if the stack is not empty, return False, otherwise return True."
   ]
  },
  {
   "cell_type": "code",
   "execution_count": null,
   "id": "78c6f895-cabd-489c-87e4-c34e013525a8",
   "metadata": {},
   "outputs": [],
   "source": [
    "# Extra: Implement (and validate) DoublyLinkedList"
   ]
  },
  {
   "cell_type": "code",
   "execution_count": null,
   "id": "5b77b338-64e5-4e07-af6b-a201f73dc1d3",
   "metadata": {},
   "outputs": [],
   "source": []
  }
 ],
 "metadata": {
  "kernelspec": {
   "display_name": "Python 3 (ipykernel)",
   "language": "python",
   "name": "python3"
  },
  "language_info": {
   "codemirror_mode": {
    "name": "ipython",
    "version": 3
   },
   "file_extension": ".py",
   "mimetype": "text/x-python",
   "name": "python",
   "nbconvert_exporter": "python",
   "pygments_lexer": "ipython3",
   "version": "3.12.3"
  }
 },
 "nbformat": 4,
 "nbformat_minor": 5
}
